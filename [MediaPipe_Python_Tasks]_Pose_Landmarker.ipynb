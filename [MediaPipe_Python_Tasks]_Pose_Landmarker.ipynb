{
 "cells": [
  {
   "cell_type": "markdown",
   "metadata": {
    "id": "h2q27gKz1H20"
   },
   "source": [
    "##### Copyright 2023 The MediaPipe Authors. All Rights Reserved."
   ]
  },
  {
   "cell_type": "code",
   "metadata": {
    "cellView": "form",
    "id": "TUfAcER1oUS6",
    "ExecuteTime": {
     "end_time": "2025-05-20T06:48:49.649351Z",
     "start_time": "2025-05-20T06:48:49.630353Z"
    }
   },
   "source": [
    "#@title Licensed under the Apache License, Version 2.0 (the \"License\");\n",
    "# you may not use this file except in compliance with the License.\n",
    "# You may obtain a copy of the License at\n",
    "#\n",
    "# https://www.apache.org/licenses/LICENSE-2.0\n",
    "#\n",
    "# Unless required by applicable law or agreed to in writing, software\n",
    "# distributed under the License is distributed on an \"AS IS\" BASIS,\n",
    "# WITHOUT WARRANTIES OR CONDITIONS OF ANY KIND, either express or implied.\n",
    "# See the License for the specific language governing permissions and\n",
    "# limitations under the License."
   ],
   "outputs": [],
   "execution_count": 1
  },
  {
   "cell_type": "markdown",
   "metadata": {
    "id": "L_cQX8dWu4Dv"
   },
   "source": [
    "# Pose Landmarks Detection with MediaPipe Tasks\n",
    "\n",
    "This notebook shows you how to use MediaPipe Tasks Python API to detect pose landmarks from images."
   ]
  },
  {
   "cell_type": "markdown",
   "metadata": {
    "id": "O6PN9FvIx614"
   },
   "source": [
    "## Preparation\n",
    "\n",
    "Let's start with installing MediaPipe.\n"
   ]
  },
  {
   "cell_type": "code",
   "metadata": {
    "id": "gxbHBsF-8Y_l",
    "ExecuteTime": {
     "end_time": "2025-05-20T06:48:55.600271Z",
     "start_time": "2025-05-20T06:48:49.684354Z"
    }
   },
   "source": [
    "!pip install -q mediapipe"
   ],
   "outputs": [
    {
     "name": "stderr",
     "output_type": "stream",
     "text": [
      "WARNING: Ignoring invalid distribution -umpy (c:\\users\\user\\anaconda3\\envs\\dangerdetectionsystem\\lib\\site-packages)\n",
      "WARNING: Ignoring invalid distribution -umpy (c:\\users\\user\\anaconda3\\envs\\dangerdetectionsystem\\lib\\site-packages)\n",
      "WARNING: Ignoring invalid distribution -umpy (c:\\users\\user\\anaconda3\\envs\\dangerdetectionsystem\\lib\\site-packages)\n"
     ]
    }
   ],
   "execution_count": 2
  },
  {
   "cell_type": "markdown",
   "metadata": {
    "id": "a49D7h4TVmru"
   },
   "source": [
    "Then download an off-the-shelf model bundle. Check out the [MediaPipe documentation](https://developers.google.com/mediapipe/solutions/vision/pose_landmarker#models) for more information about this model bundle."
   ]
  },
  {
   "cell_type": "code",
   "metadata": {
    "id": "OMjuVQiDYJKF",
    "ExecuteTime": {
     "end_time": "2025-05-20T06:48:56.257279Z",
     "start_time": "2025-05-20T06:48:56.245277Z"
    }
   },
   "source": "#!wget -O pose_landmarker.task -q https://storage.googleapis.com/mediapipe-models/pose_landmarker/pose_landmarker_heavy/float16/1/pose_landmarker_heavy.task",
   "outputs": [],
   "execution_count": 3
  },
  {
   "cell_type": "markdown",
   "metadata": {
    "id": "YYKAJ5nDU8-I"
   },
   "source": [
    "## Visualization utilities"
   ]
  },
  {
   "cell_type": "code",
   "metadata": {
    "id": "s3E6NFV-00Qt",
    "ExecuteTime": {
     "end_time": "2025-05-20T06:48:59.099420Z",
     "start_time": "2025-05-20T06:48:56.425275Z"
    }
   },
   "source": [
    "#@markdown To better demonstrate the Pose Landmarker API, we have created a set of visualization tools that will be used in this colab. These will draw the landmarks on a detect person, as well as the expected connections between those markers.\n",
    "\n",
    "from mediapipe import solutions\n",
    "from mediapipe.framework.formats import landmark_pb2\n",
    "import numpy as np\n",
    "\n",
    "\n",
    "def draw_landmarks_on_image(rgb_image, detection_result):\n",
    "  pose_landmarks_list = detection_result.pose_landmarks\n",
    "  annotated_image = np.copy(rgb_image)\n",
    "\n",
    "  # Loop through the detected poses to visualize.\n",
    "  for idx in range(len(pose_landmarks_list)):\n",
    "    pose_landmarks = pose_landmarks_list[idx]\n",
    "\n",
    "    # Draw the pose landmarks.\n",
    "    pose_landmarks_proto = landmark_pb2.NormalizedLandmarkList()\n",
    "    pose_landmarks_proto.landmark.extend([\n",
    "      landmark_pb2.NormalizedLandmark(x=landmark.x, y=landmark.y, z=landmark.z) for landmark in pose_landmarks\n",
    "    ])\n",
    "    solutions.drawing_utils.draw_landmarks(\n",
    "      annotated_image,\n",
    "      pose_landmarks_proto,\n",
    "      solutions.pose.POSE_CONNECTIONS,\n",
    "      solutions.drawing_styles.get_default_pose_landmarks_style())\n",
    "  return annotated_image"
   ],
   "outputs": [],
   "execution_count": 4
  },
  {
   "cell_type": "markdown",
   "metadata": {
    "id": "83PEJNp9yPBU"
   },
   "source": [
    "## Download test image\n",
    "\n",
    "To demonstrate the Pose Landmarker API, you can download a sample image using the follow code. The image is from [Pixabay](https://pixabay.com/photos/girl-woman-fitness-beautiful-smile-4051811/)."
   ]
  },
  {
   "metadata": {
    "ExecuteTime": {
     "end_time": "2025-05-20T06:49:07.510373Z",
     "start_time": "2025-05-20T06:48:59.134434Z"
    }
   },
   "cell_type": "code",
   "source": [
    "#!wget -q -O image.jpg https://cdn.pixabay.com/photo/2019/03/12/20/39/girl-4051811_960_720.jpg\n",
    "\n",
    "import cv2\n",
    "\n",
    "# 이미지 다운로드 (wget 대신 requests 사용)\n",
    "import requests\n",
    "\n",
    "#url = \"https://cdn.pixabay.com/photo/2019/03/12/20/39/girl-4051811_960_720.jpg\"\n",
    "#with open(\"imageByCG.png\", \"wb\") as f:\n",
    "#    f.write(requests.get(url).content)\n",
    "\n",
    "# 이미지 읽기 및 표시\n",
    "img = cv2.imread(\"pose_demo_3p.png\")\n",
    "cv2.imshow(\"Image\", img)\n",
    "cv2.waitKey(0)  # 키 입력 대기\n",
    "cv2.destroyAllWindows()  # 창 닫기"
   ],
   "outputs": [],
   "execution_count": 5
  },
  {
   "metadata": {},
   "cell_type": "markdown",
   "source": "Optionally, you can upload your own image. If you want to do so, uncomment and run the cell below."
  },
  {
   "metadata": {
    "ExecuteTime": {
     "end_time": "2025-05-20T06:49:07.556809Z",
     "start_time": "2025-05-20T06:49:07.544805Z"
    }
   },
   "cell_type": "code",
   "source": [
    "# from google.colab import files\n",
    "# uploaded = files.upload()\n",
    "\n",
    "# for filename in uploaded:\n",
    "#   content = uploaded[filename]\n",
    "#   with open(filename, 'wb') as f:\n",
    "#     f.write(content)\n",
    "\n",
    "# if len(uploaded.keys()):\n",
    "#   IMAGE_FILE = next(iter(uploaded))\n",
    "#   print('Uploaded file:', IMAGE_FILE)"
   ],
   "outputs": [],
   "execution_count": 6
  },
  {
   "metadata": {},
   "cell_type": "markdown",
   "source": [
    "## Running inference and visualizing the results\n",
    "\n",
    "The final step is to run pose landmark detection on your selected image. This involves creating your PoseLandmarker object, loading your image, running detection, and finally, the optional step of displaying the image with visualizations.\n",
    "\n",
    "Check out the [MediaPipe documentation](https://developers.google.com/mediapipe/solutions/vision/pose_landmarker/python) to learn more about configuration options that this solution supports.\n"
   ]
  },
  {
   "metadata": {
    "ExecuteTime": {
     "end_time": "2025-05-20T06:49:14.244392Z",
     "start_time": "2025-05-20T06:49:07.592801Z"
    }
   },
   "cell_type": "code",
   "source": [
    "# STEP 1: Import the necessary modules.\n",
    "import mediapipe as mp\n",
    "from mediapipe.tasks import python\n",
    "from mediapipe.tasks.python import vision\n",
    "import cv2\n",
    "\n",
    "# STEP 2: Create an PoseLandmarker object.\n",
    "base_options = python.BaseOptions(model_asset_path='pose_landmarker.task')\n",
    "options = vision.PoseLandmarkerOptions(\n",
    "  base_options=base_options,\n",
    "  num_poses=4,\n",
    "  output_segmentation_masks=True)\n",
    "detector = vision.PoseLandmarker.create_from_options(options)\n",
    "\n",
    "# STEP 3: Load the input image.\n",
    "image = mp.Image.create_from_file(\"pose_demo_3p.png\")\n",
    "\n",
    "# STEP 4: Detect pose landmarks from the input image.\n",
    "detection_result = detector.detect(image)\n",
    "print(detection_result)\n",
    "\n",
    "# STEP 5: Process the detection result. In this case, visualize it.\n",
    "annotated_image = draw_landmarks_on_image(image.numpy_view(), detection_result)\n",
    "cv2.imshow(\"Pose Landmarks\", cv2.cvtColor(annotated_image, cv2.COLOR_RGB2BGR))\n",
    "cv2.waitKey(0)\n",
    "cv2.destroyAllWindows()\n"
   ],
   "outputs": [
    {
     "name": "stdout",
     "output_type": "stream",
     "text": [
      "PoseLandmarkerResult(pose_landmarks=[[NormalizedLandmark(x=0.8177568912506104, y=0.28550517559051514, z=-0.440613329410553, visibility=0.999977707862854, presence=0.9999842643737793), NormalizedLandmark(x=0.8277736306190491, y=0.27561649680137634, z=-0.4085700213909149, visibility=0.9999293088912964, presence=0.9999791383743286), NormalizedLandmark(x=0.8323347568511963, y=0.2760326564311981, z=-0.4090164005756378, visibility=0.999932050704956, presence=0.9999843835830688), NormalizedLandmark(x=0.8366383910179138, y=0.2763778567314148, z=-0.40883368253707886, visibility=0.9999493360519409, presence=0.9999818801879883), NormalizedLandmark(x=0.8099424242973328, y=0.2761300206184387, z=-0.41323956847190857, visibility=0.9999266862869263, presence=0.9999593496322632), NormalizedLandmark(x=0.8033714890480042, y=0.27695637941360474, z=-0.41375797986984253, visibility=0.9999347925186157, presence=0.9999648332595825), NormalizedLandmark(x=0.7979804277420044, y=0.27770790457725525, z=-0.414013534784317, visibility=0.9999357461929321, presence=0.9999532699584961), NormalizedLandmark(x=0.8439573645591736, y=0.2836979031562805, z=-0.2279636561870575, visibility=0.9999312162399292, presence=0.9999854564666748), NormalizedLandmark(x=0.7905381321907043, y=0.28480833768844604, z=-0.24865193665027618, visibility=0.9997252821922302, presence=0.9999186992645264), NormalizedLandmark(x=0.829289436340332, y=0.2983204126358032, z=-0.3695793151855469, visibility=0.9999206066131592, presence=0.9999843835830688), NormalizedLandmark(x=0.8084551692008972, y=0.30070579051971436, z=-0.37857455015182495, visibility=0.9998587369918823, presence=0.99993896484375), NormalizedLandmark(x=0.8908271789550781, y=0.37717920541763306, z=-0.11092222481966019, visibility=0.9999744892120361, presence=0.9999953508377075), NormalizedLandmark(x=0.7531594634056091, y=0.3679540753364563, z=-0.12415602803230286, visibility=0.9996689558029175, presence=0.9998456239700317), NormalizedLandmark(x=0.912592887878418, y=0.4898463189601898, z=-0.06299719959497452, visibility=0.964869499206543, presence=0.9999470710754395), NormalizedLandmark(x=0.6448600888252258, y=0.39213719964027405, z=-0.13959549367427826, visibility=0.8460971117019653, presence=0.9995562434196472), NormalizedLandmark(x=0.944265604019165, y=0.5886878371238708, z=-0.2038392722606659, visibility=0.9365254044532776, presence=0.9998800754547119), NormalizedLandmark(x=0.5540810823440552, y=0.39285212755203247, z=-0.28231483697891235, visibility=0.5280508995056152, presence=0.997266411781311), NormalizedLandmark(x=0.9507715106010437, y=0.6223804354667664, z=-0.22919148206710815, visibility=0.8812969923019409, presence=0.999685525894165), NormalizedLandmark(x=0.5290960073471069, y=0.39029520750045776, z=-0.3196695148944855, visibility=0.38904979825019836, presence=0.9948182702064514), NormalizedLandmark(x=0.9522823095321655, y=0.6236596703529358, z=-0.28531771898269653, visibility=0.9027886986732483, presence=0.9995610117912292), NormalizedLandmark(x=0.528017520904541, y=0.39239802956581116, z=-0.3595813810825348, visibility=0.42657753825187683, presence=0.9925215840339661), NormalizedLandmark(x=0.9460389018058777, y=0.6133411526679993, z=-0.22841398417949677, visibility=0.889560878276825, presence=0.9997225403785706), NormalizedLandmark(x=0.5349646806716919, y=0.3952428698539734, z=-0.30589884519577026, visibility=0.4640519618988037, presence=0.9957334399223328), NormalizedLandmark(x=0.8515671491622925, y=0.5840955376625061, z=0.01573246717453003, visibility=0.9999285936355591, presence=0.9999932050704956), NormalizedLandmark(x=0.7666035890579224, y=0.57386714220047, z=-0.01610798016190529, visibility=0.9998866319656372, presence=0.9999871253967285), NormalizedLandmark(x=0.8239524364471436, y=0.7396885752677917, z=-0.06338732689619064, visibility=0.9767313003540039, presence=0.9999662637710571), NormalizedLandmark(x=0.699181854724884, y=0.7240967154502869, z=-0.1540580689907074, visibility=0.9720479846000671, presence=0.9999605417251587), NormalizedLandmark(x=0.8048169016838074, y=0.8924144506454468, z=0.13350935280323029, visibility=0.977475643157959, presence=0.9999270439147949), NormalizedLandmark(x=0.6235803365707397, y=0.8582205772399902, z=0.05352197587490082, visibility=0.9786664247512817, presence=0.9998565912246704), NormalizedLandmark(x=0.7981812953948975, y=0.9112616181373596, z=0.1409238874912262, visibility=0.8113927245140076, presence=0.9997748732566833), NormalizedLandmark(x=0.6201714873313904, y=0.8779536485671997, z=0.06582258641719818, visibility=0.7789938449859619, presence=0.9998137354850769), NormalizedLandmark(x=0.8174468874931335, y=0.9458485245704651, z=-0.07705490291118622, visibility=0.9767193794250488, presence=0.99937504529953), NormalizedLandmark(x=0.5990984439849854, y=0.9172999858856201, z=-0.14508308470249176, visibility=0.9745315909385681, presence=0.9990717172622681)], [NormalizedLandmark(x=0.4845738708972931, y=0.3946298062801361, z=-0.7471882104873657, visibility=0.9999276399612427, presence=0.9999948740005493), NormalizedLandmark(x=0.496404230594635, y=0.37645402550697327, z=-0.724799633026123, visibility=0.9999167919158936, presence=0.999991774559021), NormalizedLandmark(x=0.5047260522842407, y=0.376800537109375, z=-0.7252472043037415, visibility=0.9998965263366699, presence=0.9999924898147583), NormalizedLandmark(x=0.5119349360466003, y=0.37782397866249084, z=-0.7252001166343689, visibility=0.9999213218688965, presence=0.9999890327453613), NormalizedLandmark(x=0.47454404830932617, y=0.3770100772380829, z=-0.7246699333190918, visibility=0.9999397993087769, presence=0.9999873638153076), NormalizedLandmark(x=0.46919843554496765, y=0.3776892125606537, z=-0.7251223921775818, visibility=0.9999380111694336, presence=0.9999877214431763), NormalizedLandmark(x=0.4646695852279663, y=0.37832608819007874, z=-0.7253519296646118, visibility=0.9999459981918335, presence=0.9999822378158569), NormalizedLandmark(x=0.518236517906189, y=0.3852093517780304, z=-0.5510428547859192, visibility=0.999907374382019, presence=0.9999872446060181), NormalizedLandmark(x=0.4600283205509186, y=0.38404589891433716, z=-0.5489362478256226, visibility=0.999748170375824, presence=0.9999685287475586), NormalizedLandmark(x=0.4990406930446625, y=0.40934765338897705, z=-0.6756282448768616, visibility=0.9998657703399658, presence=0.9999933242797852), NormalizedLandmark(x=0.4744775891304016, y=0.4107639789581299, z=-0.677987277507782, visibility=0.9998552799224854, presence=0.9999827146530151), NormalizedLandmark(x=0.5541867017745972, y=0.45930105447769165, z=-0.434720903635025, visibility=0.9999555349349976, presence=0.9999830722808838), NormalizedLandmark(x=0.41597244143486023, y=0.4722381830215454, z=-0.43940263986587524, visibility=0.9998071789741516, presence=0.999880313873291), NormalizedLandmark(x=0.5859518051147461, y=0.5776531100273132, z=-0.7009782195091248, visibility=0.9492572546005249, presence=0.9980687499046326), NormalizedLandmark(x=0.3797615170478821, y=0.5819293260574341, z=-0.729599118232727, visibility=0.8549160957336426, presence=0.9937684535980225), NormalizedLandmark(x=0.5093809366226196, y=0.5327842831611633, z=-1.0550601482391357, visibility=0.73577481508255, presence=0.999869704246521), NormalizedLandmark(x=0.45133739709854126, y=0.5350844860076904, z=-1.0804870128631592, visibility=0.5177821516990662, presence=0.9987338185310364), NormalizedLandmark(x=0.49179551005363464, y=0.5241618752479553, z=-1.132127046585083, visibility=0.5910730361938477, presence=0.9998276233673096), NormalizedLandmark(x=0.4670260548591614, y=0.5208665132522583, z=-1.170369267463684, visibility=0.34207838773727417, presence=0.9987364411354065), NormalizedLandmark(x=0.49101096391677856, y=0.5126125812530518, z=-1.1238878965377808, visibility=0.5531197786331177, presence=0.999868631362915), NormalizedLandmark(x=0.4701780676841736, y=0.5098691582679749, z=-1.1489027738571167, visibility=0.30025947093963623, presence=0.9990360736846924), NormalizedLandmark(x=0.49511468410491943, y=0.5147171020507812, z=-1.0576351881027222, visibility=0.408814400434494, presence=0.9999088048934937), NormalizedLandmark(x=0.46786174178123474, y=0.5157017707824707, z=-1.0829206705093384, visibility=0.19774484634399414, presence=0.9993675351142883), NormalizedLandmark(x=0.5182346701622009, y=0.6266648173332214, z=0.009037179872393608, visibility=0.9999535083770752, presence=0.9999960660934448), NormalizedLandmark(x=0.4269864857196808, y=0.6287346482276917, z=-0.009269976988434792, visibility=0.9999481439590454, presence=0.9999939203262329), NormalizedLandmark(x=0.585629403591156, y=0.7288910150527954, z=-0.3809419274330139, visibility=0.9855830669403076, presence=0.9999855756759644), NormalizedLandmark(x=0.3752939701080322, y=0.737470269203186, z=-0.4262373745441437, visibility=0.9739820957183838, presence=0.9999788999557495), NormalizedLandmark(x=0.5673810243606567, y=0.8840011358261108, z=-0.12603630125522614, visibility=0.9734992384910583, presence=0.9999608993530273), NormalizedLandmark(x=0.38336485624313354, y=0.8926411867141724, z=-0.14963878691196442, visibility=0.9640101194381714, presence=0.9999247789382935), NormalizedLandmark(x=0.5572686791419983, y=0.9063624143600464, z=-0.1143563911318779, visibility=0.8532088994979858, presence=0.9998589754104614), NormalizedLandmark(x=0.3877963423728943, y=0.9114469289779663, z=-0.13173574209213257, visibility=0.7725584506988525, presence=0.9998770952224731), NormalizedLandmark(x=0.5787509679794312, y=0.9309123754501343, z=-0.35386979579925537, visibility=0.9564321041107178, presence=0.999394416809082), NormalizedLandmark(x=0.35852059721946716, y=0.9400410652160645, z=-0.3665814995765686, visibility=0.9313448071479797, presence=0.9990652203559875)], [NormalizedLandmark(x=0.23002681136131287, y=0.24763303995132446, z=-0.46321532130241394, visibility=0.9995317459106445, presence=0.999873161315918), NormalizedLandmark(x=0.24139679968357086, y=0.23907291889190674, z=-0.4285959303379059, visibility=0.9988530874252319, presence=0.9998434782028198), NormalizedLandmark(x=0.2468724548816681, y=0.24029415845870972, z=-0.4291069507598877, visibility=0.9988390803337097, presence=0.9998506307601929), NormalizedLandmark(x=0.25329726934432983, y=0.24219650030136108, z=-0.42906466126441956, visibility=0.9989320635795593, presence=0.9998006224632263), NormalizedLandmark(x=0.2215217798948288, y=0.2374717891216278, z=-0.4326801002025604, visibility=0.9991390705108643, presence=0.9997913241386414), NormalizedLandmark(x=0.2147175520658493, y=0.23802024126052856, z=-0.4331814646720886, visibility=0.9992457628250122, presence=0.9998065829277039), NormalizedLandmark(x=0.2076442688703537, y=0.23892968893051147, z=-0.4334450662136078, visibility=0.9992560744285583, presence=0.9997596144676208), NormalizedLandmark(x=0.25605547428131104, y=0.2505593001842499, z=-0.2610824704170227, visibility=0.9987654685974121, presence=0.9995425939559937), NormalizedLandmark(x=0.1972687542438507, y=0.2476639449596405, z=-0.277128130197525, visibility=0.9980751276016235, presence=0.9994175434112549), NormalizedLandmark(x=0.24070027470588684, y=0.26466676592826843, z=-0.3984510600566864, visibility=0.9966263771057129, presence=0.999309778213501), NormalizedLandmark(x=0.2187422662973404, y=0.2626451849937439, z=-0.40674492716789246, visibility=0.9965925812721252, presence=0.9986611604690552), NormalizedLandmark(x=0.2855900228023529, y=0.3213089108467102, z=-0.22827497124671936, visibility=0.9986786246299744, presence=0.9989774227142334), NormalizedLandmark(x=0.1649726927280426, y=0.3162148594856262, z=-0.2421576976776123, visibility=0.9975009560585022, presence=0.9974660873413086), NormalizedLandmark(x=0.3302013576030731, y=0.23971322178840637, z=-0.482953280210495, visibility=0.9684251546859741, presence=0.9991158843040466), NormalizedLandmark(x=0.12695959210395813, y=0.2215781807899475, z=-0.45224645733833313, visibility=0.9360365867614746, presence=0.9990637898445129), NormalizedLandmark(x=0.3605700135231018, y=0.11548048257827759, z=-0.7797999978065491, visibility=0.9701400399208069, presence=0.9993770718574524), NormalizedLandmark(x=0.10278445482254028, y=0.10243570804595947, z=-0.6679966449737549, visibility=0.9690154790878296, presence=0.9990851879119873), NormalizedLandmark(x=0.3716607391834259, y=0.08245328068733215, z=-0.8545578122138977, visibility=0.962039053440094, presence=0.9982271790504456), NormalizedLandmark(x=0.09394758939743042, y=0.07156527042388916, z=-0.7449395656585693, visibility=0.9529381990432739, presence=0.9975940585136414), NormalizedLandmark(x=0.36406415700912476, y=0.07411271333694458, z=-0.8683338165283203, visibility=0.9660444259643555, presence=0.998044490814209), NormalizedLandmark(x=0.10684814304113388, y=0.06646531820297241, z=-0.746625542640686, visibility=0.9539691805839539, presence=0.9974180459976196), NormalizedLandmark(x=0.35630089044570923, y=0.08768969774246216, z=-0.7972403168678284, visibility=0.9670234322547913, presence=0.9987335801124573), NormalizedLandmark(x=0.11493618786334991, y=0.07919156551361084, z=-0.6839087605476379, visibility=0.9572701454162598, presence=0.9986359477043152), NormalizedLandmark(x=0.2611318826675415, y=0.5536432862281799, z=0.009803521446883678, visibility=0.9992542862892151, presence=0.9995960593223572), NormalizedLandmark(x=0.18115590512752533, y=0.5561301708221436, z=-0.010076676495373249, visibility=0.9993355870246887, presence=0.9995693564414978), NormalizedLandmark(x=0.26423895359039307, y=0.7294206023216248, z=0.028214097023010254, visibility=0.8518459796905518, presence=0.9982896447181702), NormalizedLandmark(x=0.1695859283208847, y=0.721062958240509, z=0.005144468508660793, visibility=0.778667688369751, presence=0.998799204826355), NormalizedLandmark(x=0.2765548527240753, y=0.8797781467437744, z=0.20634494721889496, visibility=0.8849824666976929, presence=0.9977485537528992), NormalizedLandmark(x=0.17613503336906433, y=0.8813773393630981, z=0.16975601017475128, visibility=0.8663844466209412, presence=0.9970640540122986), NormalizedLandmark(x=0.2719610035419464, y=0.9086984395980835, z=0.2102554887533188, visibility=0.6923937797546387, presence=0.9938951134681702), NormalizedLandmark(x=0.1816224902868271, y=0.90447598695755, z=0.17482228577136993, visibility=0.6175435781478882, presence=0.9962260723114014), NormalizedLandmark(x=0.2784440815448761, y=0.9193830490112305, z=-0.007009488996118307, visibility=0.8774620890617371, presence=0.9910606741905212), NormalizedLandmark(x=0.15208157896995544, y=0.9296969771385193, z=-0.03981949761509895, visibility=0.7948617339134216, presence=0.9895808100700378)]], pose_world_landmarks=[[Landmark(x=0.028056029230356216, y=-0.6098770499229431, z=-0.3387787938117981, visibility=0.999977707862854, presence=0.9999842643737793), Landmark(x=0.04774656891822815, y=-0.6276208162307739, z=-0.325548380613327, visibility=0.9999293088912964, presence=0.9999791383743286), Landmark(x=0.04840465635061264, y=-0.6284459829330444, z=-0.3167021572589874, visibility=0.999932050704956, presence=0.9999843835830688), Landmark(x=0.04805826395750046, y=-0.6293990015983582, z=-0.3179403841495514, visibility=0.9999493360519409, presence=0.9999818801879883), Landmark(x=0.022318080067634583, y=-0.6374225616455078, z=-0.3387400507926941, visibility=0.9999266862869263, presence=0.9999593496322632), Landmark(x=0.023979773744940758, y=-0.6365469098091125, z=-0.3501078486442566, visibility=0.9999347925186157, presence=0.9999648332595825), Landmark(x=0.028205374255776405, y=-0.6230764985084534, z=-0.33187776803970337, visibility=0.9999357461929321, presence=0.9999532699584961), Landmark(x=0.11752761900424957, y=-0.6113615036010742, z=-0.2152589112520218, visibility=0.9999312162399292, presence=0.9999854564666748), Landmark(x=-0.03745223954319954, y=-0.5692368745803833, z=-0.21040873229503632, visibility=0.9997252821922302, presence=0.9999186992645264), Landmark(x=0.06924484670162201, y=-0.5971398949623108, z=-0.28695929050445557, visibility=0.9999206066131592, presence=0.9999843835830688), Landmark(x=0.030137866735458374, y=-0.5628482103347778, z=-0.3132772445678711, visibility=0.9998587369918823, presence=0.99993896484375), Landmark(x=0.21134215593338013, y=-0.4390709102153778, z=-0.08180427551269531, visibility=0.9999744892120361, presence=0.9999953508377075), Landmark(x=-0.1081441268324852, y=-0.5353583693504333, z=-0.02648317627608776, visibility=0.9996689558029175, presence=0.9998456239700317), Landmark(x=0.2765650153160095, y=-0.23019807040691376, z=-0.05706942081451416, visibility=0.964869499206543, presence=0.9999470710754395), Landmark(x=-0.29175814986228943, y=-0.39879781007766724, z=-0.04556318372488022, visibility=0.8460971117019653, presence=0.9995562434196472), Landmark(x=0.3357909321784973, y=-0.005767928436398506, z=-0.03030914068222046, visibility=0.9365254044532776, presence=0.9998800754547119), Landmark(x=-0.4990043342113495, y=-0.3795406222343445, z=-0.11541031301021576, visibility=0.5280508995056152, presence=0.997266411781311), Landmark(x=0.3467024862766266, y=0.030563512817025185, z=-0.019739994779229164, visibility=0.8812969923019409, presence=0.999685525894165), Landmark(x=-0.5227210521697998, y=-0.3909311592578888, z=-0.14981406927108765, visibility=0.38904979825019836, presence=0.9948182702064514), Landmark(x=0.33293792605400085, y=0.03703169897198677, z=-0.05213843286037445, visibility=0.9027886986732483, presence=0.9995610117912292), Landmark(x=-0.5139361619949341, y=-0.4284731149673462, z=-0.1711866855621338, visibility=0.42657753825187683, presence=0.9925215840339661), Landmark(x=0.33516350388526917, y=0.02473660558462143, z=-0.04358205199241638, visibility=0.889560878276825, presence=0.9997225403785706), Landmark(x=-0.5033619999885559, y=-0.39137572050094604, z=-0.133879616856575, visibility=0.4640519618988037, presence=0.9957334399223328), Landmark(x=0.09839031845331192, y=0.013089864514768124, z=0.025824187323451042, visibility=0.9999285936355591, presence=0.9999932050704956), Landmark(x=-0.09475498646497726, y=-0.016737276688218117, z=-0.02358339913189411, visibility=0.9998866319656372, presence=0.9999871253967285), Landmark(x=0.08031944930553436, y=0.390090674161911, z=-0.04680190607905388, visibility=0.9767313003540039, presence=0.9999662637710571), Landmark(x=-0.20558379590511322, y=0.28106486797332764, z=-0.08248138427734375, visibility=0.9720479846000671, presence=0.9999605417251587), Landmark(x=0.04545474424958229, y=0.742638349533081, z=0.0915263220667839, visibility=0.977475643157959, presence=0.9999270439147949), Landmark(x=-0.39424630999565125, y=0.6594500541687012, z=0.08402860909700394, visibility=0.9786664247512817, presence=0.9998565912246704), Landmark(x=0.02006877027451992, y=0.7795919179916382, z=0.11112198978662491, visibility=0.8113927245140076, presence=0.9997748732566833), Landmark(x=-0.41524821519851685, y=0.6904478669166565, z=0.06275517493486404, visibility=0.7789938449859619, presence=0.9998137354850769), Landmark(x=0.014893312007188797, y=0.8079013228416443, z=0.03525044023990631, visibility=0.9767193794250488, presence=0.99937504529953), Landmark(x=-0.4371660053730011, y=0.6914806962013245, z=-0.028792038559913635, visibility=0.9745315909385681, presence=0.9990717172622681)], [Landmark(x=0.022394943982362747, y=-0.4622326195240021, z=-0.5078847408294678, visibility=0.9999276399612427, presence=0.9999948740005493), Landmark(x=0.04171913489699364, y=-0.48142868280410767, z=-0.504925549030304, visibility=0.9999167919158936, presence=0.999991774559021), Landmark(x=0.0422811284661293, y=-0.480837345123291, z=-0.4947509169578552, visibility=0.9998965263366699, presence=0.9999924898147583), Landmark(x=0.0394144207239151, y=-0.48137855529785156, z=-0.4962320625782013, visibility=0.9999213218688965, presence=0.9999890327453613), Landmark(x=0.014889828860759735, y=-0.4883531332015991, z=-0.5162009596824646, visibility=0.9999397993087769, presence=0.9999873638153076), Landmark(x=0.020100541412830353, y=-0.4866533875465393, z=-0.5318070650100708, visibility=0.9999380111694336, presence=0.9999877214431763), Landmark(x=0.021127671003341675, y=-0.47771626710891724, z=-0.508337676525116, visibility=0.9999459981918335, presence=0.9999822378158569), Landmark(x=0.10303186625242233, y=-0.45504286885261536, z=-0.40281805396080017, visibility=0.999907374382019, presence=0.9999872446060181), Landmark(x=-0.044989556074142456, y=-0.4259054362773895, z=-0.399923175573349, visibility=0.999748170375824, presence=0.9999685287475586), Landmark(x=0.05819999426603317, y=-0.4451383352279663, z=-0.4595438838005066, visibility=0.9998657703399658, presence=0.9999933242797852), Landmark(x=0.019606851041316986, y=-0.4164296090602875, z=-0.48823651671409607, visibility=0.9998552799224854, presence=0.9999827146530151), Landmark(x=0.1841813176870346, y=-0.31988951563835144, z=-0.2639714479446411, visibility=0.9999555349349976, presence=0.9999830722808838), Landmark(x=-0.09422683715820312, y=-0.38128796219825745, z=-0.229388028383255, visibility=0.9998071789741516, presence=0.999880313873291), Landmark(x=0.21490532159805298, y=-0.15204060077667236, z=-0.38956528902053833, visibility=0.9492572546005249, presence=0.9980687499046326), Landmark(x=-0.10416480898857117, y=-0.15003898739814758, z=-0.3925631046295166, visibility=0.8549160957336426, presence=0.9937684535980225), Landmark(x=0.10748322308063507, y=-0.1780875325202942, z=-0.4885686933994293, visibility=0.73577481508255, presence=0.999869704246521), Landmark(x=-0.037548504769802094, y=-0.18776646256446838, z=-0.5624303817749023, visibility=0.5177821516990662, presence=0.9987338185310364), Landmark(x=0.06528599560260773, y=-0.20816956460475922, z=-0.4981312155723572, visibility=0.5910730361938477, presence=0.9998276233673096), Landmark(x=0.013998564332723618, y=-0.21358135342597961, z=-0.6254183650016785, visibility=0.34207838773727417, presence=0.9987364411354065), Landmark(x=0.05978667736053467, y=-0.2431384027004242, z=-0.5013635158538818, visibility=0.5531197786331177, presence=0.999868631362915), Landmark(x=0.040175918489694595, y=-0.2791421413421631, z=-0.6162589192390442, visibility=0.30025947093963623, presence=0.9990360736846924), Landmark(x=0.09798581898212433, y=-0.17658402025699615, z=-0.4912780225276947, visibility=0.408814400434494, presence=0.9999088048934937), Landmark(x=-0.021573174744844437, y=-0.21266056597232819, z=-0.5696706175804138, visibility=0.19774484634399414, presence=0.9993675351142883), Landmark(x=0.09498060494661331, y=-0.004567649215459824, z=0.030983159318566322, visibility=0.9999535083770752, presence=0.9999960660934448), Landmark(x=-0.09301697462797165, y=0.0021276436746120453, z=-0.02858925424516201, visibility=0.9999481439590454, presence=0.9999939203262329), Landmark(x=0.22863265872001648, y=0.25984421372413635, z=-0.21317647397518158, visibility=0.9855830669403076, presence=0.9999855756759644), Landmark(x=-0.13144323229789734, y=0.23324322700500488, z=-0.23931802809238434, visibility=0.9739820957183838, presence=0.9999788999557495), Landmark(x=0.2322651743888855, y=0.5808659195899963, z=-0.04635641351342201, visibility=0.9734992384910583, presence=0.9999608993530273), Landmark(x=-0.1837654411792755, y=0.5818305015563965, z=-0.04011322557926178, visibility=0.9640101194381714, presence=0.9999247789382935), Landmark(x=0.21836906671524048, y=0.6080683469772339, z=-0.0227168221026659, visibility=0.8532088994979858, presence=0.9998589754104614), Landmark(x=-0.18758663535118103, y=0.608637809753418, z=-0.05894862115383148, visibility=0.7725584506988525, presence=0.9998770952224731), Landmark(x=0.2594089210033417, y=0.6356715559959412, z=-0.09298738837242126, visibility=0.9564321041107178, presence=0.999394416809082), Landmark(x=-0.21943151950836182, y=0.6125115156173706, z=-0.1602170318365097, visibility=0.9313448071479797, presence=0.9990652203559875)], [Landmark(x=0.005071811378002167, y=-0.6161055564880371, z=-0.33177971839904785, visibility=0.9995317459106445, presence=0.999873161315918), Landmark(x=0.02700796164572239, y=-0.6291385293006897, z=-0.31829848885536194, visibility=0.9988530874252319, presence=0.9998434782028198), Landmark(x=0.024655338376760483, y=-0.6318483948707581, z=-0.30831295251846313, visibility=0.9988390803337097, presence=0.9998506307601929), Landmark(x=0.023170340806245804, y=-0.6317548155784607, z=-0.3092028796672821, visibility=0.9989320635795593, presence=0.9998006224632263), Landmark(x=-0.0014337419997900724, y=-0.6373932361602783, z=-0.33189570903778076, visibility=0.9991390705108643, presence=0.9997913241386414), Landmark(x=0.0009567152592353523, y=-0.6375958919525146, z=-0.3460317850112915, visibility=0.9992457628250122, presence=0.9998065829277039), Landmark(x=0.003425902221351862, y=-0.6233291625976562, z=-0.32453781366348267, visibility=0.9992560744285583, presence=0.9997596144676208), Landmark(x=0.08971935510635376, y=-0.6032668948173523, z=-0.223428413271904, visibility=0.9987654685974121, presence=0.9995425939559937), Landmark(x=-0.05885964632034302, y=-0.555290937423706, z=-0.21680845320224762, visibility=0.9980751276016235, presence=0.9994175434112549), Landmark(x=0.04212085157632828, y=-0.5928640365600586, z=-0.28764888644218445, visibility=0.9966263771057129, presence=0.999309778213501), Landmark(x=0.00040142633952200413, y=-0.5622197389602661, z=-0.3168658912181854, visibility=0.9965925812721252, presence=0.9986611604690552), Landmark(x=0.16719847917556763, y=-0.48517218232154846, z=-0.15244552493095398, visibility=0.9986786246299744, presence=0.9989774227142334), Landmark(x=-0.10176849365234375, y=-0.5541234016418457, z=-0.09898273646831512, visibility=0.9975009560585022, presence=0.9974660873413086), Landmark(x=0.2373548299074173, y=-0.6390630006790161, z=-0.27626708149909973, visibility=0.9684251546859741, presence=0.9991158843040466), Landmark(x=-0.17862893640995026, y=-0.6691668629646301, z=-0.2248329222202301, visibility=0.9360365867614746, presence=0.9990637898445129), Landmark(x=0.29010504484176636, y=-0.8523157835006714, z=-0.3497054874897003, visibility=0.9701400399208069, presence=0.9993770718574524), Landmark(x=-0.24402013421058655, y=-0.8958244919776917, z=-0.30896198749542236, visibility=0.9690154790878296, presence=0.9990851879119873), Landmark(x=0.29007458686828613, y=-0.906305193901062, z=-0.3699584901332855, visibility=0.962039053440094, presence=0.9982271790504456), Landmark(x=-0.23766948282718658, y=-0.9520255327224731, z=-0.3728488087654114, visibility=0.9529381990432739, presence=0.9975940585136414), Landmark(x=0.2742442190647125, y=-0.9365448355674744, z=-0.3775075078010559, visibility=0.9660444259643555, presence=0.998044490814209), Landmark(x=-0.19369763135910034, y=-1.0022714138031006, z=-0.37131407856941223, visibility=0.9539691805839539, presence=0.9974180459976196), Landmark(x=0.28844425082206726, y=-0.8529872894287109, z=-0.36037540435791016, visibility=0.9670234322547913, presence=0.9987335801124573), Landmark(x=-0.23044949769973755, y=-0.9229567646980286, z=-0.3201923668384552, visibility=0.9572701454162598, presence=0.9986359477043152), Landmark(x=0.08733432739973068, y=-0.006873336620628834, z=0.01898711919784546, visibility=0.9992542862892151, presence=0.9995960593223572), Landmark(x=-0.08564545214176178, y=0.0008156467229127884, z=-0.017397208139300346, visibility=0.9993355870246887, presence=0.9995693564414978), Landmark(x=0.08380185067653656, y=0.3693019151687622, z=-0.008882105350494385, visibility=0.8518459796905518, presence=0.9982896447181702), Landmark(x=-0.07712870836257935, y=0.31309089064598083, z=-0.012881746515631676, visibility=0.778667688369751, presence=0.998799204826355), Landmark(x=0.11328757554292679, y=0.6920037269592285, z=0.1230517029762268, visibility=0.8849824666976929, presence=0.9977485537528992), Landmark(x=-0.13338498771190643, y=0.6850640773773193, z=0.12833133339881897, visibility=0.8663844466209412, presence=0.9970640540122986), Landmark(x=0.09746961295604706, y=0.7208964824676514, z=0.14306937158107758, visibility=0.6923937797546387, presence=0.9938951134681702), Landmark(x=-0.13755877315998077, y=0.7156259417533875, z=0.10469237715005875, visibility=0.6175435781478882, presence=0.9962260723114014), Landmark(x=0.09110600501298904, y=0.7448804974555969, z=0.0972093865275383, visibility=0.8774620890617371, presence=0.9910606741905212), Landmark(x=-0.15809021890163422, y=0.7313739657402039, z=0.02221795730292797, visibility=0.7948617339134216, presence=0.9895808100700378)]], segmentation_masks=[<mediapipe.python._framework_bindings.image.Image object at 0x00000200B92A4770>, <mediapipe.python._framework_bindings.image.Image object at 0x00000200B92A47C0>, <mediapipe.python._framework_bindings.image.Image object at 0x00000200B92A4900>])\n"
     ]
    }
   ],
   "execution_count": 7
  },
  {
   "metadata": {
    "ExecuteTime": {
     "end_time": "2025-05-20T06:50:23.064428Z",
     "start_time": "2025-05-20T06:49:14.280392Z"
    }
   },
   "cell_type": "code",
   "source": [
    "def draw_world_landmarks_with_coordinates(rgb_image, detection_result):\n",
    "  # 2D 정규화 랜드마크 리스트 (list of list)\n",
    "  pixel_landmarks_list = detection_result.pose_landmarks\n",
    "  # 3D 월드 랜드마크 리스트 (list of list)\n",
    "  world_landmarks_list = detection_result.pose_world_landmarks\n",
    "\n",
    "  annotated_image = np.copy(rgb_image)\n",
    "  h, w = annotated_image.shape[:2]\n",
    "\n",
    "  # 둘 중 하나라도 없으면 원본 반환\n",
    "  if not pixel_landmarks_list or not world_landmarks_list:\n",
    "    return annotated_image\n",
    "\n",
    "  # 인물(사람)별로 순회\n",
    "  for idx in range(len(pixel_landmarks_list)):\n",
    "    lm2d_list = pixel_landmarks_list[idx]\n",
    "    lm3d_list = world_landmarks_list[idx]\n",
    "    if not lm2d_list or not lm3d_list:\n",
    "      continue\n",
    "\n",
    "    # 2D overlay: 연결선 + 점\n",
    "    pose2d_proto = landmark_pb2.NormalizedLandmarkList()\n",
    "    pose2d_proto.landmark.extend([\n",
    "      landmark_pb2.NormalizedLandmark(x=lm.x, y=lm.y, z=lm.z)\n",
    "      for lm in lm2d_list\n",
    "    ])\n",
    "    solutions.drawing_utils.draw_landmarks(\n",
    "      annotated_image,\n",
    "      pose2d_proto,\n",
    "      solutions.pose.POSE_CONNECTIONS,\n",
    "      solutions.drawing_styles.get_default_pose_landmarks_style()\n",
    "    )\n",
    "\n",
    "    # 3D 월드 좌표 텍스트 표시\n",
    "    for lm2d, lm3d in zip(lm2d_list, lm3d_list):\n",
    "      x_px = int(lm2d.x * w)\n",
    "      y_px = int(lm2d.y * h)\n",
    "      coord_text = f\"({lm3d.x:.2f}m, {lm3d.y:.2f}m, {lm3d.z:.2f}m)\"\n",
    "      # 검은 테두리\n",
    "      cv2.putText(annotated_image, coord_text, (x_px + 5, y_px - 5),\n",
    "                  cv2.FONT_HERSHEY_SIMPLEX, 0.4, (0, 0, 0), 2)\n",
    "      # 흰 글씨\n",
    "      cv2.putText(annotated_image, coord_text, (x_px + 5, y_px - 5),\n",
    "                  cv2.FONT_HERSHEY_SIMPLEX, 0.4, (255, 255, 255), 1)\n",
    "\n",
    "  return annotated_image\n",
    "\n",
    "\n",
    "# 사용 예\n",
    "annotated = draw_world_landmarks_with_coordinates(image.numpy_view(), detection_result)\n",
    "cv2.imshow(\"Pose WorldLandmarks with Coordinates\", cv2.cvtColor(annotated, cv2.COLOR_RGB2BGR))\n",
    "cv2.waitKey(0)\n",
    "cv2.destroyAllWindows()\n"
   ],
   "outputs": [],
   "execution_count": 8
  },
  {
   "metadata": {},
   "cell_type": "markdown",
   "source": "Visualize the pose segmentation mask."
  },
  {
   "metadata": {
    "ExecuteTime": {
     "end_time": "2025-05-20T06:50:27.376658Z",
     "start_time": "2025-05-20T06:50:23.296646Z"
    }
   },
   "cell_type": "code",
   "source": [
    "segmentation_mask = detection_result.segmentation_masks[0].numpy_view()\n",
    "visualized_mask = np.repeat(segmentation_mask[:, :, np.newaxis], 3, axis=2) * 255\n",
    "cv2.imshow(\"Segmentation Mask\", visualized_mask)\n",
    "cv2.waitKey(0)\n",
    "cv2.destroyAllWindows()\n"
   ],
   "outputs": [],
   "execution_count": 9
  },
  {
   "metadata": {
    "ExecuteTime": {
     "end_time": "2025-05-20T06:50:27.440663Z",
     "start_time": "2025-05-20T06:50:27.427660Z"
    }
   },
   "cell_type": "code",
   "source": "",
   "outputs": [],
   "execution_count": null
  }
 ],
 "metadata": {
  "colab": {
   "provenance": []
  },
  "kernelspec": {
   "display_name": "Python 3 (ipykernel)",
   "language": "python",
   "name": "python3"
  },
  "language_info": {
   "codemirror_mode": {
    "name": "ipython",
    "version": 3
   },
   "file_extension": ".py",
   "mimetype": "text/x-python",
   "name": "python",
   "nbconvert_exporter": "python",
   "pygments_lexer": "ipython3",
   "version": "3.8.10"
  }
 },
 "nbformat": 4,
 "nbformat_minor": 0
}
